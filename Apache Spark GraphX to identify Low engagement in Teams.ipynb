{
 "cells": [
  {
   "cell_type": "markdown",
   "metadata": {},
   "source": [
    "#  Using Spark GraphX (Scala) to Explore Teams Meetings Connections"
   ]
  },
  {
   "cell_type": "markdown",
   "metadata": {},
   "source": [
    "This is a script that attempts to analyse **Microsoft Teams** data and its users. Theis tool has been used to \n",
    "\n",
    "- determine which students interacted with teachers and other students during Lockdown\n",
    "- the number of connections made by students during lockdown\n",
    "- which students attended all of their parent teacher nights on Microsoft Teams\n",
    "\n",
    "The final form of the data is pushed out for data visualisation; an anonymised image of which is produced below (reolution is kept low to hide names)\n"
   ]
  },
  {
   "cell_type": "code",
   "execution_count": 1,
   "metadata": {
    "scrolled": true
   },
   "outputs": [
    {
     "data": {
      "text/plain": [
       "Intitializing Scala interpreter ..."
      ]
     },
     "metadata": {},
     "output_type": "display_data"
    },
    {
     "data": {
      "text/plain": [
       "Spark Web UI available at http://489a97f9c416:4040\n",
       "SparkContext available as 'sc' (version = 2.4.5, master = local[*], app id = local-1593493256710)\n",
       "SparkSession available as 'spark'\n"
      ]
     },
     "metadata": {},
     "output_type": "display_data"
    }
   ],
   "source": [
    "// Set log level to ERROR (less verbose)\n",
    "sc.setLogLevel(\"ERROR\")"
   ]
  },
  {
   "cell_type": "code",
   "execution_count": 2,
   "metadata": {},
   "outputs": [
    {
     "data": {
      "text/plain": [
       "import org.apache.spark.graphx._\n",
       "import org.apache.spark.rdd.RDD\n"
      ]
     },
     "execution_count": 2,
     "metadata": {},
     "output_type": "execute_result"
    }
   ],
   "source": [
    "import org.apache.spark.graphx._\n",
    "import org.apache.spark.rdd.RDD"
   ]
  },
  {
   "cell_type": "code",
   "execution_count": 56,
   "metadata": {},
   "outputs": [
    {
     "data": {
      "text/plain": [
       "import scala.util.hashing.MurmurHash3\n",
       "import org.apache.spark.SparkContext._\n",
       "import org.apache.spark._\n",
       "import org.apache.spark.util.IntParam\n",
       "import org.apache.spark.graphx.util.GraphGenerators\n"
      ]
     },
     "execution_count": 56,
     "metadata": {},
     "output_type": "execute_result"
    }
   ],
   "source": [
    "import scala.util.hashing.MurmurHash3\n",
    "import org.apache.spark.SparkContext._\n",
    "import org.apache.spark._\n",
    "\n",
    "import org.apache.spark.util.IntParam \n",
    "\n",
    "import org.apache.spark.graphx.util.GraphGenerators "
   ]
  },
  {
   "cell_type": "markdown",
   "metadata": {},
   "source": [
    "## 0. Importing data from Teams Web Scrape\n"
   ]
  },
  {
   "cell_type": "code",
   "execution_count": 4,
   "metadata": {},
   "outputs": [
    {
     "data": {
      "text/plain": [
       "df: org.apache.spark.sql.DataFrame = [Name: string, Anon-hash: string ... 2 more fields]\n"
      ]
     },
     "execution_count": 4,
     "metadata": {},
     "output_type": "execute_result"
    }
   ],
   "source": [
    "val df = spark  //teams data from webscrape (in github.com/mabs31614)\n",
    "  .read\n",
    "  .option(\"header\",\"true\")\n",
    "  .csv(\"meetings_iterateIV.csv\")"
   ]
  },
  {
   "cell_type": "markdown",
   "metadata": {},
   "source": [
    "## 1. All users as a flat map"
   ]
  },
  {
   "cell_type": "code",
   "execution_count": 5,
   "metadata": {},
   "outputs": [
    {
     "name": "stdout",
     "output_type": "stream",
     "text": [
      "+--------------------+\n",
      "|               value|\n",
      "+--------------------+\n",
      "|a6dd882a-3bcc-414...|\n",
      "|2b33b1a9-11e2-4ad...|\n",
      "|2178e5ca-c396-446...|\n",
      "|2b33b1a9-11e2-4ad...|\n",
      "|32b05a78-91ae-4dc...|\n",
      "|2b33b1a9-11e2-4ad...|\n",
      "|b09069b4-977a-4cc...|\n",
      "|2b33b1a9-11e2-4ad...|\n",
      "|c1628bbf-0426-4ba...|\n",
      "|2b33b1a9-11e2-4ad...|\n",
      "|3e446d19-ab8f-4c0...|\n",
      "|2b33b1a9-11e2-4ad...|\n",
      "|db73afa1-d7aa-485...|\n",
      "|2b33b1a9-11e2-4ad...|\n",
      "|1bad0edf-cb30-480...|\n",
      "|2b33b1a9-11e2-4ad...|\n",
      "|a6dd882a-3bcc-414...|\n",
      "|2b33b1a9-11e2-4ad...|\n",
      "|2178e5ca-c396-446...|\n",
      "|2b33b1a9-11e2-4ad...|\n",
      "+--------------------+\n",
      "only showing top 20 rows\n",
      "\n"
     ]
    },
    {
     "data": {
      "text/plain": [
       "meetings_happen: org.apache.spark.sql.Dataset[String] = [value: string]\n"
      ]
     },
     "execution_count": 5,
     "metadata": {},
     "output_type": "execute_result"
    }
   ],
   "source": [
    "val meetings_happen = df.select($\"Anon-hash\", $\"Met with Anon-hash2\")\n",
    "  .flatMap(x => Iterable(x(0).toString, x(1).toString))\n",
    "\n",
    "meetings_happen.show()"
   ]
  },
  {
   "cell_type": "markdown",
   "metadata": {},
   "source": [
    "## 2. Hashing each member"
   ]
  },
  {
   "cell_type": "code",
   "execution_count": 48,
   "metadata": {},
   "outputs": [
    {
     "name": "stdout",
     "output_type": "stream",
     "text": [
      "+-----------+--------------------+\n",
      "|         _1|                  _2|\n",
      "+-----------+--------------------+\n",
      "|  -11226283|0543ffa3-1da7-4f5...|\n",
      "| -242275388|cf6b64b5-caa6-4a2...|\n",
      "|-1534436217|9c6e7edc-7f66-476...|\n",
      "| -501084297|d70cee9a-6659-469...|\n",
      "| -399443434|1b76604d-973c-4a1...|\n",
      "|-1491206084|2178e5ca-c396-446...|\n",
      "| 1049739525|83126f26-4ed3-421...|\n",
      "|-1186716245|df1e49f4-c94b-46e...|\n",
      "|-1215475918|00111b40-dd90-4cd...|\n",
      "|  890045020|35460092-f774-48f...|\n",
      "| -824988155|5c227b02-77c6-459...|\n",
      "|  913038510|fb35ba38-fd9d-44f...|\n",
      "|-1880963488|5e492294-cfea-4e8...|\n",
      "|-2005993431|e933e0e4-41a7-4f3...|\n",
      "|  701371189|9f2c86f2-bfea-445...|\n",
      "| -491376221|c16fa317-a231-47e...|\n",
      "| -891377651|a193953b-e7be-474...|\n",
      "| 1830736030|15fbd69b-ebcd-43b...|\n",
      "| 1509966752|34752b28-ccd3-455...|\n",
      "| 1350603974|3349b6d2-9c4d-453...|\n",
      "+-----------+--------------------+\n",
      "only showing top 20 rows\n",
      "\n"
     ]
    },
    {
     "data": {
      "text/plain": [
       "meetingVertices: org.apache.spark.rdd.RDD[(org.apache.spark.graphx.VertexId, String)] = MapPartitionsRDD[146] at map at <console>:39\n"
      ]
     },
     "execution_count": 48,
     "metadata": {},
     "output_type": "execute_result"
    }
   ],
   "source": [
    "val meetingVertices: RDD[(VertexId, String)] = meetings_happen\n",
    "  .rdd\n",
    "  .distinct()\n",
    "  .map(x => (MurmurHash3.stringHash(x), x))\n",
    "\n",
    "meeetingVertices.toDF.show()"
   ]
  },
  {
   "cell_type": "code",
   "execution_count": 7,
   "metadata": {},
   "outputs": [
    {
     "data": {
      "text/plain": [
       "default: String = Missing\n"
      ]
     },
     "execution_count": 7,
     "metadata": {},
     "output_type": "execute_result"
    }
   ],
   "source": [
    "//in case data is missing\n",
    "val default = (\"Missing\")"
   ]
  },
  {
   "cell_type": "markdown",
   "metadata": {},
   "source": [
    "## 3. Select Relevant Data"
   ]
  },
  {
   "cell_type": "code",
   "execution_count": 140,
   "metadata": {},
   "outputs": [
    {
     "name": "stdout",
     "output_type": "stream",
     "text": [
      "+--------------------+--------------------+--------------------+\n",
      "|           Anon-hash|                Date| Met with Anon-hash2|\n",
      "+--------------------+--------------------+--------------------+\n",
      "|a6dd882a-3bcc-414...|Jun 17, 2020, 8:1...|2b33b1a9-11e2-4ad...|\n",
      "|2178e5ca-c396-446...|Jun 17, 2020, 8:1...|2b33b1a9-11e2-4ad...|\n",
      "|32b05a78-91ae-4dc...|Jun 17, 2020, 8:0...|2b33b1a9-11e2-4ad...|\n",
      "|b09069b4-977a-4cc...|Jun 17, 2020, 7:5...|2b33b1a9-11e2-4ad...|\n",
      "|c1628bbf-0426-4ba...|Jun 17, 2020, 7:4...|2b33b1a9-11e2-4ad...|\n",
      "|3e446d19-ab8f-4c0...|Jun 17, 2020, 7:3...|2b33b1a9-11e2-4ad...|\n",
      "|db73afa1-d7aa-485...|Jun 17, 2020, 7:2...|2b33b1a9-11e2-4ad...|\n",
      "|1bad0edf-cb30-480...|Jun 16, 2020, 5:0...|2b33b1a9-11e2-4ad...|\n",
      "|a6dd882a-3bcc-414...|Jun 17, 2020, 8:1...|2b33b1a9-11e2-4ad...|\n",
      "|2178e5ca-c396-446...|Jun 17, 2020, 8:1...|2b33b1a9-11e2-4ad...|\n",
      "|32b05a78-91ae-4dc...|Jun 17, 2020, 8:0...|2b33b1a9-11e2-4ad...|\n",
      "|b09069b4-977a-4cc...|Jun 17, 2020, 7:5...|2b33b1a9-11e2-4ad...|\n",
      "|c1628bbf-0426-4ba...|Jun 17, 2020, 7:4...|2b33b1a9-11e2-4ad...|\n",
      "|3e446d19-ab8f-4c0...|Jun 17, 2020, 7:3...|2b33b1a9-11e2-4ad...|\n",
      "|db73afa1-d7aa-485...|Jun 17, 2020, 7:2...|2b33b1a9-11e2-4ad...|\n",
      "|1bad0edf-cb30-480...|Jun 16, 2020, 5:0...|2b33b1a9-11e2-4ad...|\n",
      "|a6dd882a-3bcc-414...|Jun 17, 2020, 8:1...|2b33b1a9-11e2-4ad...|\n",
      "|2178e5ca-c396-446...|Jun 17, 2020, 8:1...|2b33b1a9-11e2-4ad...|\n",
      "|32b05a78-91ae-4dc...|Jun 17, 2020, 8:0...|2b33b1a9-11e2-4ad...|\n",
      "|b09069b4-977a-4cc...|Jun 17, 2020, 7:5...|2b33b1a9-11e2-4ad...|\n",
      "+--------------------+--------------------+--------------------+\n",
      "only showing top 20 rows\n",
      "\n"
     ]
    },
    {
     "data": {
      "text/plain": [
       "meetswith: org.apache.spark.sql.DataFrame = [Anon-hash: string, Date: string ... 1 more field]\n"
      ]
     },
     "execution_count": 140,
     "metadata": {},
     "output_type": "execute_result"
    }
   ],
   "source": [
    "val meetswith = df.select($\"Anon-hash\",$\"Date\"\n",
    "                          , $\"Met with Anon-hash2\")\n",
    "\n",
    "meetswith.show()"
   ]
  },
  {
   "cell_type": "markdown",
   "metadata": {},
   "source": [
    "## 4. Count the weight of edges"
   ]
  },
  {
   "cell_type": "code",
   "execution_count": 145,
   "metadata": {
    "scrolled": true
   },
   "outputs": [
    {
     "name": "stdout",
     "output_type": "stream",
     "text": [
      "+-----------+-----------+----+\n",
      "|      srcId|      dstId|attr|\n",
      "+-----------+-----------+----+\n",
      "| -480497222| 1997337454|   4|\n",
      "| -689347565|-1338107648|   4|\n",
      "| -161800269| 1310155991|   4|\n",
      "|  855818853|-1088133319|   4|\n",
      "| 1516269864|  628345161|   4|\n",
      "|-1735814711|  221392448|   1|\n",
      "|-2000910472| 1353039522|   4|\n",
      "|  334932050| 2015546316|   1|\n",
      "| 1350603974|  -54293009|   1|\n",
      "|-2120849828| -486432159|   4|\n",
      "| 1050046094|  -54293009|   1|\n",
      "| -689347565| 1547628626|   4|\n",
      "| -303982107|  199609406|   1|\n",
      "| 1164407076|  -54293009|   1|\n",
      "|   42493235|-1509472485|   4|\n",
      "|-1712347268|   24672310|   1|\n",
      "| 1055115870|  463128253|   4|\n",
      "| 2052281350|  -54293009|   1|\n",
      "|-1879337352|   24672310|   4|\n",
      "| -343959261|-1509472485|   4|\n",
      "+-----------+-----------+----+\n",
      "only showing top 20 rows\n",
      "\n"
     ]
    },
    {
     "data": {
      "text/plain": [
       "meetEdges: org.apache.spark.rdd.RDD[org.apache.spark.graphx.Edge[Int]] = MapPartitionsRDD[855] at map at <console>:52\n"
      ]
     },
     "execution_count": 145,
     "metadata": {},
     "output_type": "execute_result"
    }
   ],
   "source": [
    "val meetEdges = meetswith.map(x => ( (\n",
    "        MurmurHash3.stringHash(x(0).toString),    // x._1._1 or 1st part of the key\n",
    "        MurmurHash3.stringHash(x(2).toString)),   // x._1._2 or 2nd part of the key\n",
    "        1)                                        // x._2    or value\n",
    "    )\n",
    "    .rdd\n",
    "    .reduceByKey(_+_)                            // use a mapReduce to count all \n",
    "    .map(x => Edge(x._1._1, x._1._2, x._2))\n",
    "\n",
    "meetEdges.toDF.show()"
   ]
  },
  {
   "cell_type": "code",
   "execution_count": 63,
   "metadata": {},
   "outputs": [
    {
     "data": {
      "text/plain": [
       "graph: org.apache.spark.graphx.Graph[String,Int] = org.apache.spark.graphx.impl.GraphImpl@306dd65c\n"
      ]
     },
     "execution_count": 63,
     "metadata": {},
     "output_type": "execute_result"
    }
   ],
   "source": [
    "val graph = Graph(meetingVertices, meetEdges, default)"
   ]
  },
  {
   "cell_type": "code",
   "execution_count": 50,
   "metadata": {},
   "outputs": [
    {
     "name": "stdout",
     "output_type": "stream",
     "text": [
      "(837991095,2b33b1a9-11e2-4ad7-9f19-c2c1d0e491d3)\n"
     ]
    }
   ],
   "source": [
    "graph.vertices.filter{case (id, meetings_happen) => meetings_happen == \"2b33b1a9-11e2-4ad7-9f19-c2c1d0e491d3\" }.foreach(println)"
   ]
  },
  {
   "cell_type": "markdown",
   "metadata": {},
   "source": [
    "## 5. a) Analysis: Students of Concern"
   ]
  },
  {
   "cell_type": "markdown",
   "metadata": {},
   "source": [
    "We aim to identify students who have shown unusually low levels of engagement during covid lockdown period. We seek to find students who have met with less than three other peers/teachers during the lockdownb period"
   ]
  },
  {
   "cell_type": "code",
   "execution_count": 147,
   "metadata": {},
   "outputs": [
    {
     "name": "stdout",
     "output_type": "stream",
     "text": [
      "students of concern: less than 3 meetings in lockdown period\n",
      "(1309934521,1)\n",
      "(-401825308,1)\n",
      "(1687057319,1)\n",
      "(-2069136988,1)\n",
      "(-505558248,1)\n",
      "(513780699,1)\n",
      "(252834296,1)\n",
      "(631229833,1)\n",
      "(-1821297042,1)\n",
      "(1684354721,1)\n",
      "(1727050932,1)\n",
      "(-455575284,1)\n",
      "(-1541313051,1)\n",
      "(-627899379,1)\n",
      "(289136151,1)\n",
      "(-810650888,2)\n",
      "(-1796855781,2)\n",
      "(-769288802,2)\n",
      "(-598044423,2)\n",
      "(2106568317,2)\n",
      "(-2101087778,2)\n",
      "(741249320,3)\n",
      "(-1056322281,3)\n",
      "(80238912,3)\n",
      "(-1829222230,3)\n"
     ]
    }
   ],
   "source": [
    "//students of concern\n",
    "print(\"students of concern: less than 3 meetings in lockdown period\\n\")\n",
    "graph.inDegrees.filter(u=>u._2<4).sortBy(_._2).foreach(println)"
   ]
  },
  {
   "cell_type": "markdown",
   "metadata": {},
   "source": [
    "## 5. b) Analysis: Count the number of Meetings between Students/ Teachers"
   ]
  },
  {
   "cell_type": "code",
   "execution_count": 146,
   "metadata": {
    "scrolled": true
   },
   "outputs": [
    {
     "name": "stdout",
     "output_type": "stream",
     "text": [
      "8 Teams meetings Between f8422... and ab0db...\n",
      "8 Teams meetings Between e3db4... and ab0db...\n",
      "8 Teams meetings Between c5ec3... and ab0db...\n",
      "8 Teams meetings Between bcbb4... and ab0db...\n",
      "8 Teams meetings Between 7ff90... and ab0db...\n",
      "8 Teams meetings Between 4820e... and ab0db...\n",
      "8 Teams meetings Between 2c41f... and ab0db...\n",
      "4 Teams meetings Between fefe1... and e5603...\n",
      "4 Teams meetings Between fde17... and 9f2ce...\n",
      "4 Teams meetings Between fdda5... and fa971...\n"
     ]
    }
   ],
   "source": [
    "graph.triplets.map(triplet => triplet.attr\n",
    "  + \" Teams meetings Between \"\n",
    "  + triplet.srcAttr.take(5)\n",
    "  + \"... and \" \n",
    "  + triplet.dstAttr.take(5)+\"...\").collect.sorted.reverse.take(10).foreach(println(_))"
   ]
  },
  {
   "cell_type": "markdown",
   "metadata": {},
   "source": [
    "## 6. Visualisation of Graph (Low Res to Anonymise Data)"
   ]
  },
  {
   "attachments": {
    "cluster%20%282%29.png": {
     "image/png": "[encoded data removed]"
    }
   },
   "cell_type": "markdown",
   "metadata": {},
   "source": [
    "![cluster%20%282%29.png](attachment:cluster%20%282%29.png)"
   ]
  },
  {
   "cell_type": "markdown",
   "metadata": {},
   "source": [
    "The graph above (a Power BI screenshpt which used the above Teams data) was used to identify students of concern (who had not been attending or engaging with online classes)"
   ]
  },
  {
   "cell_type": "code",
   "execution_count": null,
   "metadata": {},
   "outputs": [],
   "source": []
  }
 ],
 "metadata": {
  "kernelspec": {
   "display_name": "spylon-kernel",
   "language": "scala",
   "name": "spylon-kernel"
  },
  "language_info": {
   "codemirror_mode": "text/x-scala",
   "file_extension": ".scala",
   "help_links": [
    {
     "text": "MetaKernel Magics",
     "url": "https://metakernel.readthedocs.io/en/latest/source/README.html"
    }
   ],
   "mimetype": "text/x-scala",
   "name": "scala",
   "pygments_lexer": "scala",
   "version": "0.4.1"
  }
 },
 "nbformat": 4,
 "nbformat_minor": 4
}
